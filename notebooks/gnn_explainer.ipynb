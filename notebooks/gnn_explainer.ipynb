{
 "cells": [
  {
   "cell_type": "code",
   "execution_count": 1,
   "id": "ad2b4e23",
   "metadata": {},
   "outputs": [],
   "source": [
    "import torch\n",
    "device = torch.device(\"cuda\" if torch.cuda.is_available() else \"cpu\")"
   ]
  },
  {
   "cell_type": "code",
   "execution_count": 2,
   "id": "f69510dc",
   "metadata": {},
   "outputs": [],
   "source": [
    "from torch_geometric.nn import GNNExplainer\n",
    "from tqdm import tqdm\n",
    "\n",
    "\n",
    "\n",
    "class GNNExplainerUpdated(GNNExplainer):\n",
    "    \"\"\" \n",
    "    https://github.com/rusty1s/pytorch_geometric/blob/master/torch_geometric/nn/models/gnn_explainer.py \n",
    "    \"\"\"\n",
    "    def __init__(self, *args, **kwargs):\n",
    "        super().__init__(*args, **kwargs)\n",
    "        \n",
    "    def explain_graph(self, x, edge_index, **kwargs):\n",
    "        r\"\"\"Learns and returns a node feature mask and an edge mask that play a\n",
    "        crucial role to explain the prediction made by the GNN for a graph.\n",
    "        Args:\n",
    "            x (Tensor): The node feature matrix.\n",
    "            edge_index (LongTensor): The edge indices.\n",
    "            **kwargs (optional): Additional arguments passed to the GNN module.\n",
    "        :rtype: (:class:`Tensor`, :class:`Tensor`)\n",
    "        \"\"\"\n",
    "\n",
    "        self.model.eval()\n",
    "        self.__clear_masks__()\n",
    "\n",
    "        # all nodes belong to same graph\n",
    "        batch = torch.zeros(x.shape[0], dtype=int, device=x.device)\n",
    "\n",
    "        # Get the initial prediction.\n",
    "        with torch.no_grad():\n",
    "            out = self.model(x=x, edge_index=edge_index, batch=batch, **kwargs)\n",
    "            log_logits = self.__to_log_prob__(out)\n",
    "            pred_label = log_logits.argmax(dim=-1)\n",
    "\n",
    "        self.__set_masks__(x, edge_index)\n",
    "        self.to(x.device)\n",
    "\n",
    "        optimizer = torch.optim.Adam([self.node_feat_mask, self.edge_mask],\n",
    "                                     lr=self.lr)\n",
    "\n",
    "        if self.log:  # pragma: no cover\n",
    "            pbar = tqdm(total=self.epochs)\n",
    "            pbar.set_description('Explain graph')\n",
    "\n",
    "        for epoch in range(1, self.epochs + 1):\n",
    "            optimizer.zero_grad()\n",
    "            h = x * self.node_feat_mask.view(1, -1).sigmoid()\n",
    "            out = self.model(x=h, edge_index=edge_index, batch=batch, **kwargs)\n",
    "            log_logits = self.__to_log_prob__(out)\n",
    "            loss = self.__loss__(-1, log_logits, pred_label)\n",
    "            loss.backward()\n",
    "            optimizer.step()\n",
    "\n",
    "            if self.log:  # pragma: no cover\n",
    "                pbar.update(1)\n",
    "\n",
    "        if self.log:  # pragma: no cover\n",
    "            pbar.close()\n",
    "\n",
    "        node_feat_mask = self.node_feat_mask.detach().sigmoid()\n",
    "        edge_mask = self.edge_mask.detach().sigmoid()\n",
    "\n",
    "        self.__clear_masks__()\n",
    "        return node_feat_mask, edge_mask"
   ]
  },
  {
   "cell_type": "code",
   "execution_count": 3,
   "id": "30c427c4",
   "metadata": {},
   "outputs": [
    {
     "data": {
      "text/plain": [
       "DeeperGCN(\n",
       "  (layers): ModuleList(\n",
       "    (0): DeepLayer(\n",
       "      (layer): DeepGCNLayer(block=res+)\n",
       "      (encoder): Linear(in_features=256, out_features=128, bias=True)\n",
       "    )\n",
       "    (1): DeepLayer(\n",
       "      (layer): DeepGCNLayer(block=res+)\n",
       "      (encoder): Linear(in_features=128, out_features=64, bias=True)\n",
       "    )\n",
       "    (2): DeepLayer(\n",
       "      (layer): DeepGCNLayer(block=res+)\n",
       "      (encoder): Linear(in_features=64, out_features=32, bias=True)\n",
       "    )\n",
       "    (3): DeepLayer(\n",
       "      (layer): DeepGCNLayer(block=res+)\n",
       "      (encoder): Linear(in_features=32, out_features=16, bias=True)\n",
       "    )\n",
       "    (4): DeepLayer(\n",
       "      (layer): DeepGCNLayer(block=res+)\n",
       "      (encoder): Linear(in_features=16, out_features=8, bias=True)\n",
       "    )\n",
       "  )\n",
       "  (in_encoder): Linear(in_features=6, out_features=256, bias=True)\n",
       "  (lin): Linear(in_features=8, out_features=2, bias=True)\n",
       ")"
      ]
     },
     "execution_count": 3,
     "metadata": {},
     "output_type": "execute_result"
    }
   ],
   "source": [
    "from models import DeeperGCN\n",
    "\n",
    "model = DeeperGCN(5, 256, device)\n",
    "model.load_state_dict(torch.load('gnn.pt'))\n",
    "model.eval()"
   ]
  },
  {
   "cell_type": "code",
   "execution_count": 4,
   "id": "64b329eb",
   "metadata": {},
   "outputs": [],
   "source": [
    "from graph_data import GraphData\n",
    "\n",
    "graph_data = GraphData()"
   ]
  },
  {
   "cell_type": "code",
   "execution_count": 5,
   "id": "8a974360",
   "metadata": {},
   "outputs": [
    {
     "name": "stderr",
     "output_type": "stream",
     "text": [
      "Explain graph: 100%|██████████| 100/100 [00:07<00:00, 13.35it/s]\n"
     ]
    }
   ],
   "source": [
    "random_sample = graph_data.return_random_graph().to(device)\n",
    "\n",
    "explainer = GNNExplainerUpdated(model, epochs=100, return_type='log_prob')\n",
    "_node_feat_mask, _edge_mask = explainer.explain_graph(\n",
    "    random_sample.x, random_sample.edge_index\n",
    ")"
   ]
  },
  {
   "cell_type": "code",
   "execution_count": 6,
   "id": "1e00c8b1",
   "metadata": {},
   "outputs": [
    {
     "data": {
      "image/png": "[encoded data removed]",
      "text/plain": [
       "<Figure size 432x288 with 1 Axes>"
      ]
     },
     "metadata": {},
     "output_type": "display_data"
    }
   ],
   "source": [
    "import matplotlib.pyplot as plt\n",
    "ax, G = explainer.visualize_subgraph(-1, random_sample.edge_index, _edge_mask)\n",
    "\n",
    "plt.rcParams[\"figure.figsize\"] = (40,30)\n",
    "\n",
    "plt.show()"
   ]
  },
  {
   "cell_type": "code",
   "execution_count": 7,
   "id": "fbaa581a",
   "metadata": {},
   "outputs": [
    {
     "name": "stdout",
     "output_type": "stream",
     "text": [
      "torch.Size([6]) torch.Size([4872])\n",
      "tensor([0.1801, 0.6601, 0.8001, 0.8208, 0.2234, 0.3264], device='cuda:0') tensor([0.2621, 0.2697, 0.2826,  ..., 0.5410, 0.4741, 0.5099], device='cuda:0')\n"
     ]
    },
    {
     "data": {
      "text/plain": [
       "Data(edge_index=[2, 4872], face=[3, 1595], pos=[841, 3], x=[841, 6], y=1)"
      ]
     },
     "execution_count": 7,
     "metadata": {},
     "output_type": "execute_result"
    }
   ],
   "source": [
    "print(_node_feat_mask.shape, _edge_mask.shape)\n",
    "print(_node_feat_mask, _edge_mask)\n",
    "random_sample"
   ]
  },
  {
   "cell_type": "code",
   "execution_count": 8,
   "id": "9a32a682",
   "metadata": {},
   "outputs": [],
   "source": [
    "# for edge in edge_index.T:\n",
    "# for edge, relevance in zip(edge_index.T, edge_mask):\n",
    "# node_relevance[edge[0]] += relevance\n",
    "# node_relevance[edge[1]] += relevance\n",
    "# node_count[edge[0]] += 1\n",
    "# node_count[edge[1]] += 1\n",
    "# node_relevance =/ node_count\n",
    "# meshio"
   ]
  },
  {
   "cell_type": "code",
   "execution_count": 9,
   "id": "0c7cb8b7",
   "metadata": {},
   "outputs": [],
   "source": [
    "node_relevance = [0 for i in range(random_sample.pos.shape[0])]\n",
    "node_count = [*node_relevance]\n",
    "\n",
    "random_sample = random_sample.to('cpu')\n",
    "edge_index = random_sample.edge_index.numpy().T\n",
    "nodes = random_sample.pos.numpy()\n",
    "\n",
    "edge_mask = _edge_mask.to('cpu').numpy()\n",
    "\n",
    "for edge, relevance in zip(edge_index, edge_mask):\n",
    "    node_relevance[edge[0]] += relevance\n",
    "    node_relevance[edge[1]] += relevance\n",
    "    node_count[edge[0]] += 1\n",
    "    node_count[edge[1]] += 1\n",
    "\n",
    "for idx, count in enumerate(node_count):\n",
    "    node_relevance[idx] /= count"
   ]
  },
  {
   "cell_type": "code",
   "execution_count": 10,
   "id": "cb21ca2b",
   "metadata": {},
   "outputs": [
    {
     "data": {
      "text/plain": [
       "((514, 3), (1595, 3))"
      ]
     },
     "execution_count": 10,
     "metadata": {},
     "output_type": "execute_result"
    }
   ],
   "source": [
    "import numpy as np\n",
    "\n",
    "relevance_threshold = 0.3\n",
    "\n",
    "faces = random_sample.face.numpy().T\n",
    "\n",
    "node_mask = [0 if i > relevance_threshold else 1 for i in node_relevance]\n",
    "face_mask = []\n",
    "\n",
    "for i, (n1, n2, n3) in enumerate(faces):\n",
    "    if (\n",
    "        node_mask[n1] or\n",
    "        node_mask[n2] or\n",
    "        node_mask[n3]\n",
    "    ):\n",
    "        face_mask.append(i)\n",
    "        \n",
    "filtered_faces = np.delete(faces, face_mask, 0)\n",
    "filtered_faces.shape, faces.shape"
   ]
  },
  {
   "cell_type": "code",
   "execution_count": 14,
   "id": "a0eb4e69",
   "metadata": {},
   "outputs": [],
   "source": [
    "from utils.mesh import Mesh\n",
    "\n",
    "# mesh = Mesh(verts=nodes, connectivity=filtered_faces)\n",
    "# mesh.writeVTU(filename='random_sample.vtu')\n",
    "mesh = Mesh(verts=random_sample.pos.numpy(), connectivity=random_sample.face.numpy().T)\n",
    "mesh.writeVTU(filename='random_sample.vtu', scalars=node_relevance)"
   ]
  },
  {
   "cell_type": "code",
   "execution_count": 15,
   "id": "58a7225f",
   "metadata": {},
   "outputs": [
    {
     "data": {
      "text/plain": [
       "Data(edge_index=[2, 4872], face=[3, 1595], pos=[841, 3], x=[841, 6], y=1)"
      ]
     },
     "execution_count": 15,
     "metadata": {},
     "output_type": "execute_result"
    }
   ],
   "source": [
    "random_sample"
   ]
  },
  {
   "cell_type": "code",
   "execution_count": null,
   "id": "f77245cc",
   "metadata": {},
   "outputs": [],
   "source": []
  }
 ],
 "metadata": {
  "kernelspec": {
   "display_name": "Python 3",
   "language": "python",
   "name": "python3"
  },
  "language_info": {
   "codemirror_mode": {
    "name": "ipython",
    "version": 3
   },
   "file_extension": ".py",
   "mimetype": "text/x-python",
   "name": "python",
   "nbconvert_exporter": "python",
   "pygments_lexer": "ipython3",
   "version": "3.8.5"
  }
 },
 "nbformat": 4,
 "nbformat_minor": 5
}
