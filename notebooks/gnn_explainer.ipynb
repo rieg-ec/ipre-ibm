{
 "cells": [
  {
   "cell_type": "code",
   "execution_count": null,
   "id": "ad2b4e23",
   "metadata": {},
   "outputs": [],
   "source": [
    "import torch\n",
    "device = torch.device(\"cuda\" if torch.cuda.is_available() else \"cpu\")"
   ]
  },
  {
   "cell_type": "code",
   "execution_count": null,
   "id": "f69510dc",
   "metadata": {},
   "outputs": [],
   "source": [
    "from torch_geometric.nn import GNNExplainer\n",
    "from tqdm import tqdm\n",
    "\n",
    "\n",
    "\n",
    "class GNNExplainerUpdated(GNNExplainer):\n",
    "    \"\"\" \n",
    "    https://github.com/rusty1s/pytorch_geometric/blob/master/torch_geometric/nn/models/gnn_explainer.py \n",
    "    \"\"\"\n",
    "    def __init__(self, *args, **kwargs):\n",
    "        super().__init__(*args, **kwargs)\n",
    "        \n",
    "    def explain_graph(self, x, edge_index, **kwargs):\n",
    "        r\"\"\"Learns and returns a node feature mask and an edge mask that play a\n",
    "        crucial role to explain the prediction made by the GNN for a graph.\n",
    "        Args:\n",
    "            x (Tensor): The node feature matrix.\n",
    "            edge_index (LongTensor): The edge indices.\n",
    "            **kwargs (optional): Additional arguments passed to the GNN module.\n",
    "        :rtype: (:class:`Tensor`, :class:`Tensor`)\n",
    "        \"\"\"\n",
    "\n",
    "        self.model.eval()\n",
    "        self.__clear_masks__()\n",
    "\n",
    "        # all nodes belong to same graph\n",
    "        batch = torch.zeros(x.shape[0], dtype=int, device=x.device)\n",
    "\n",
    "        # Get the initial prediction.\n",
    "        with torch.no_grad():\n",
    "            out = self.model(x=x, edge_index=edge_index, batch=batch, **kwargs)\n",
    "            log_logits = self.__to_log_prob__(out)\n",
    "            pred_label = log_logits.argmax(dim=-1)\n",
    "\n",
    "        self.__set_masks__(x, edge_index)\n",
    "        self.to(x.device)\n",
    "\n",
    "        optimizer = torch.optim.Adam([self.node_feat_mask, self.edge_mask],\n",
    "                                     lr=self.lr)\n",
    "\n",
    "        if self.log:  # pragma: no cover\n",
    "            pbar = tqdm(total=self.epochs)\n",
    "            pbar.set_description('Explain graph')\n",
    "\n",
    "        for epoch in range(1, self.epochs + 1):\n",
    "            optimizer.zero_grad()\n",
    "            h = x * self.node_feat_mask.view(1, -1).sigmoid()\n",
    "            out = self.model(x=h, edge_index=edge_index, batch=batch, **kwargs)\n",
    "            log_logits = self.__to_log_prob__(out)\n",
    "            loss = self.__loss__(-1, log_logits, pred_label)\n",
    "            loss.backward()\n",
    "            optimizer.step()\n",
    "\n",
    "            if self.log:  # pragma: no cover\n",
    "                pbar.update(1)\n",
    "\n",
    "        if self.log:  # pragma: no cover\n",
    "            pbar.close()\n",
    "\n",
    "        node_feat_mask = self.node_feat_mask.detach().sigmoid()\n",
    "        edge_mask = self.edge_mask.detach().sigmoid()\n",
    "\n",
    "        self.__clear_masks__()\n",
    "        return node_feat_mask, edge_mask"
   ]
  },
  {
   "cell_type": "code",
   "execution_count": null,
   "id": "30c427c4",
   "metadata": {},
   "outputs": [],
   "source": [
    "from models import DeeperGCN\n",
    "\n",
    "model = DeeperGCN(5, 256, device)\n",
    "model.load_state_dict(torch.load('gnn.pt'))\n",
    "model.eval()"
   ]
  },
  {
   "cell_type": "code",
   "execution_count": null,
   "id": "64b329eb",
   "metadata": {},
   "outputs": [],
   "source": [
    "from graph_data import GraphData\n",
    "\n",
    "graph_data = GraphData()"
   ]
  },
  {
   "cell_type": "code",
   "execution_count": null,
   "id": "8a974360",
   "metadata": {},
   "outputs": [],
   "source": [
    "random_sample = graph_data.return_random_graph().to(device)\n",
    "\n",
    "explainer = GNNExplainerUpdated(model, epochs=100, return_type='log_prob')\n",
    "node_feat_mask, edge_mask = explainer.explain_graph(\n",
    "    random_sample.x, random_sample.edge_index\n",
    ")"
   ]
  },
  {
   "cell_type": "code",
   "execution_count": null,
   "id": "1e00c8b1",
   "metadata": {},
   "outputs": [],
   "source": [
    "import matplotlib.pyplot as plt\n",
    "ax, G = explainer.visualize_subgraph(-1, random_sample.edge_index, edge_mask)\n",
    "\n",
    "plt.rcParams[\"figure.figsize\"] = (40,30)\n",
    "\n",
    "plt.show()"
   ]
  },
  {
   "cell_type": "code",
   "execution_count": null,
   "id": "ce502947",
   "metadata": {},
   "outputs": [],
   "source": [
    "print(node_feat_mask.shape, edge_mask.shape)\n",
    "print(node_feat_mask, edge_mask)\n",
    "random_sample"
   ]
  },
  {
   "cell_type": "code",
   "execution_count": null,
   "id": "9a32a682",
   "metadata": {},
   "outputs": [],
   "source": [
    "# for edge in edge_index.T:\n",
    "# for edge, relevance in zip(edge_index.T, edge_mask):\n",
    "# node_relevance[edge[0]] += relevance\n",
    "# node_relevance[edge[1]] += relevance\n",
    "# node_count[edge[0]] += 1\n",
    "# node_count[edge[1]] += 1\n",
    "# node_relevance =/ node_count\n",
    "# meshio"
   ]
  },
  {
   "cell_type": "code",
   "execution_count": null,
   "id": "fe28c15e",
   "metadata": {},
   "outputs": [],
   "source": []
  }
 ],
 "metadata": {
  "kernelspec": {
   "display_name": "Python 3",
   "language": "python",
   "name": "python3"
  },
  "language_info": {
   "codemirror_mode": {
    "name": "ipython",
    "version": 3
   },
   "file_extension": ".py",
   "mimetype": "text/x-python",
   "name": "python",
   "nbconvert_exporter": "python",
   "pygments_lexer": "ipython3",
   "version": "3.8.5"
  }
 },
 "nbformat": 4,
 "nbformat_minor": 5
}
