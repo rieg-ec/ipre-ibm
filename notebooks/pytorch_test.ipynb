{
 "cells": [
  {
   "cell_type": "code",
   "execution_count": 1,
   "id": "honest-transaction",
   "metadata": {},
   "outputs": [],
   "source": [
    "import torch\n",
    "from torch import nn\n",
    "from torch.utils.data import DataLoader\n",
    "from torchvision import datasets\n",
    "from torchvision.transforms import ToTensor, Lambda, Compose\n",
    "import matplotlib.pyplot as plt"
   ]
  },
  {
   "cell_type": "code",
   "execution_count": 2,
   "id": "aging-premises",
   "metadata": {
    "scrolled": true
   },
   "outputs": [],
   "source": [
    "# Download training data from open datasets.\n",
    "training_data = datasets.FashionMNIST(\n",
    "    root=\"data\",\n",
    "    train=True,\n",
    "    download=True,\n",
    "    transform=ToTensor(),\n",
    ")\n",
    "\n",
    "# Download test data from open datasets.\n",
    "test_data = datasets.FashionMNIST(\n",
    "    root=\"data\",\n",
    "    train=False,\n",
    "    download=True,\n",
    "    transform=ToTensor(),\n",
    ")"
   ]
  },
  {
   "cell_type": "code",
   "execution_count": 3,
   "id": "unique-attribute",
   "metadata": {},
   "outputs": [
    {
     "name": "stdout",
     "output_type": "stream",
     "text": [
      "Shape of X [N, C, H, W]:  torch.Size([64, 1, 28, 28])\n",
      "Shape of y:  torch.Size([64]) torch.int64\n"
     ]
    }
   ],
   "source": [
    "batch_size = 64\n",
    "\n",
    "# Create data loaders.\n",
    "train_dataloader = DataLoader(training_data, batch_size=batch_size)\n",
    "test_dataloader = DataLoader(test_data, batch_size=batch_size)\n",
    "\n",
    "for X, y in test_dataloader:\n",
    "    print(\"Shape of X [N, C, H, W]: \", X.shape)\n",
    "    print(\"Shape of y: \", y.shape, y.dtype)\n",
    "    break"
   ]
  },
  {
   "cell_type": "code",
   "execution_count": 4,
   "id": "experienced-bleeding",
   "metadata": {},
   "outputs": [
    {
     "name": "stdout",
     "output_type": "stream",
     "text": [
      "Using cpu device\n",
      "NeuralNetwork(\n",
      "  (flatten): Flatten(start_dim=1, end_dim=-1)\n",
      "  (linear_relu_stack): Sequential(\n",
      "    (0): Linear(in_features=784, out_features=512, bias=True)\n",
      "    (1): ReLU()\n",
      "    (2): Linear(in_features=512, out_features=512, bias=True)\n",
      "    (3): ReLU()\n",
      "    (4): Linear(in_features=512, out_features=10, bias=True)\n",
      "    (5): ReLU()\n",
      "  )\n",
      ")\n"
     ]
    }
   ],
   "source": [
    "device = \"cuda\" if torch.cuda.is_available() else \"cpu\"\n",
    "print(\"Using {} device\".format(device))\n",
    "\n",
    "# Define model\n",
    "class NeuralNetwork(nn.Module):\n",
    "    def __init__(self):\n",
    "        super(NeuralNetwork, self).__init__()\n",
    "        self.flatten = nn.Flatten()\n",
    "        self.linear_relu_stack = nn.Sequential(\n",
    "            nn.Linear(28*28, 512),\n",
    "            nn.ReLU(),\n",
    "            nn.Linear(512, 512),\n",
    "            nn.ReLU(),\n",
    "            nn.Linear(512, 10),\n",
    "            nn.ReLU()\n",
    "        )\n",
    "\n",
    "    def forward(self, x):\n",
    "        x = self.flatten(x)\n",
    "        logits = self.linear_relu_stack(x)\n",
    "        return logits\n",
    "\n",
    "model = NeuralNetwork().to(device)\n",
    "print(model)"
   ]
  },
  {
   "cell_type": "code",
   "execution_count": 5,
   "id": "varied-excellence",
   "metadata": {},
   "outputs": [],
   "source": [
    "loss_fn = nn.CrossEntropyLoss()\n",
    "optimizer = torch.optim.SGD(model.parameters(), lr=1e-3)\n",
    "\n",
    "def train(dataloader, model, loss_fn, optimizer):\n",
    "    size = len(dataloader.dataset)\n",
    "    for batch, (X, y) in enumerate(dataloader):\n",
    "        X, y = X.to(device), y.to(device)\n",
    "\n",
    "        # Compute prediction error\n",
    "        pred = model(X)\n",
    "        loss = loss_fn(pred, y)\n",
    "\n",
    "        # Backpropagation\n",
    "        optimizer.zero_grad()\n",
    "        loss.backward()\n",
    "        optimizer.step()\n",
    "\n",
    "        if batch % 100 == 0:\n",
    "            loss, current = loss.item(), batch * len(X)\n",
    "            print(f\"loss: {loss:>7f}  [{current:>5d}/{size:>5d}]\")\n",
    "            \n",
    "def test(dataloader, model):\n",
    "    size = len(dataloader.dataset)\n",
    "    model.eval()\n",
    "    test_loss, correct = 0, 0\n",
    "    with torch.no_grad():\n",
    "        for X, y in dataloader:\n",
    "            X, y = X.to(device), y.to(device)\n",
    "            pred = model(X)\n",
    "            test_loss += loss_fn(pred, y).item()\n",
    "            correct += (pred.argmax(1) == y).type(torch.float).sum().item()\n",
    "    test_loss /= size\n",
    "    correct /= size\n",
    "    print(f\"Test Error: \\n Accuracy: {(100*correct):>0.1f}%, Avg loss: {test_loss:>8f} \\n\")"
   ]
  },
  {
   "cell_type": "code",
   "execution_count": 6,
   "id": "solid-flour",
   "metadata": {},
   "outputs": [
    {
     "name": "stdout",
     "output_type": "stream",
     "text": [
      "Epoch 1\n",
      "-------------------------------\n",
      "loss: 2.301505  [    0/60000]\n",
      "loss: 2.294066  [ 6400/60000]\n",
      "loss: 2.282152  [12800/60000]\n",
      "loss: 2.276488  [19200/60000]\n",
      "loss: 2.271431  [25600/60000]\n",
      "loss: 2.248103  [32000/60000]\n",
      "loss: 2.263354  [38400/60000]\n",
      "loss: 2.238221  [44800/60000]\n",
      "loss: 2.241471  [51200/60000]\n",
      "loss: 2.213710  [57600/60000]\n",
      "Test Error: \n",
      " Accuracy: 38.2%, Avg loss: 0.034826 \n",
      "\n",
      "Epoch 2\n",
      "-------------------------------\n",
      "loss: 2.226692  [    0/60000]\n",
      "loss: 2.213594  [ 6400/60000]\n",
      "loss: 2.181828  [12800/60000]\n",
      "loss: 2.198430  [19200/60000]\n",
      "loss: 2.166252  [25600/60000]\n",
      "loss: 2.114170  [32000/60000]\n",
      "loss: 2.154041  [38400/60000]\n",
      "loss: 2.097238  [44800/60000]\n",
      "loss: 2.125556  [51200/60000]\n",
      "loss: 2.073635  [57600/60000]\n",
      "Test Error: \n",
      " Accuracy: 49.5%, Avg loss: 0.032730 \n",
      "\n",
      "Epoch 3\n",
      "-------------------------------\n",
      "loss: 2.099983  [    0/60000]\n",
      "loss: 2.070965  [ 6400/60000]\n",
      "loss: 2.018650  [12800/60000]\n",
      "loss: 2.068994  [19200/60000]\n",
      "loss: 1.999708  [25600/60000]\n",
      "loss: 1.904218  [32000/60000]\n",
      "loss: 1.984872  [38400/60000]\n",
      "loss: 1.885777  [44800/60000]\n",
      "loss: 1.948085  [51200/60000]\n",
      "loss: 1.871468  [57600/60000]\n",
      "Test Error: \n",
      " Accuracy: 53.3%, Avg loss: 0.029713 \n",
      "\n",
      "Epoch 4\n",
      "-------------------------------\n",
      "loss: 1.912714  [    0/60000]\n",
      "loss: 1.868794  [ 6400/60000]\n",
      "loss: 1.799151  [12800/60000]\n",
      "loss: 1.892999  [19200/60000]\n",
      "loss: 1.776004  [25600/60000]\n",
      "loss: 1.664993  [32000/60000]\n",
      "loss: 1.782102  [38400/60000]\n",
      "loss: 1.664965  [44800/60000]\n",
      "loss: 1.735554  [51200/60000]\n",
      "loss: 1.672738  [57600/60000]\n",
      "Test Error: \n",
      " Accuracy: 56.1%, Avg loss: 0.026675 \n",
      "\n",
      "Epoch 5\n",
      "-------------------------------\n",
      "loss: 1.710271  [    0/60000]\n",
      "loss: 1.671659  [ 6400/60000]\n",
      "loss: 1.597958  [12800/60000]\n",
      "loss: 1.732107  [19200/60000]\n",
      "loss: 1.580117  [25600/60000]\n",
      "loss: 1.477100  [32000/60000]\n",
      "loss: 1.612236  [38400/60000]\n",
      "loss: 1.503138  [44800/60000]\n",
      "loss: 1.563599  [51200/60000]\n",
      "loss: 1.527068  [57600/60000]\n",
      "Test Error: \n",
      " Accuracy: 56.8%, Avg loss: 0.024356 \n",
      "\n",
      "Done!\n"
     ]
    }
   ],
   "source": [
    "epochs = 5\n",
    "for t in range(epochs):\n",
    "    print(f\"Epoch {t+1}\\n-------------------------------\")\n",
    "    train(train_dataloader, model, loss_fn, optimizer)\n",
    "    test(test_dataloader, model)\n",
    "\n",
    "print(\"Done!\")"
   ]
  },
  {
   "cell_type": "code",
   "execution_count": 10,
   "id": "painted-courtesy",
   "metadata": {},
   "outputs": [
    {
     "name": "stdout",
     "output_type": "stream",
     "text": [
      "Predicted: \"Sneaker\", Actual: \"Sneaker\"\n"
     ]
    }
   ],
   "source": [
    "classes = [\n",
    "    \"T-shirt/top\",\n",
    "    \"Trouser\",\n",
    "    \"Pullover\",\n",
    "    \"Dress\",\n",
    "    \"Coat\",\n",
    "    \"Sandal\",\n",
    "    \"Shirt\",\n",
    "    \"Sneaker\",\n",
    "    \"Bag\",\n",
    "    \"Ankle boot\",\n",
    "]\n",
    "\n",
    "model.eval()\n",
    "x, y = test_data[327][0], test_data[327][1]\n",
    "with torch.no_grad():\n",
    "    pred = model(x)\n",
    "    predicted, actual = classes[pred[0].argmax(0)], classes[y]\n",
    "    print(f'Predicted: \"{predicted}\", Actual: \"{actual}\"')"
   ]
  },
  {
   "cell_type": "code",
   "execution_count": null,
   "id": "czech-cargo",
   "metadata": {},
   "outputs": [],
   "source": []
  }
 ],
 "metadata": {
  "kernelspec": {
   "display_name": "Python 3",
   "language": "python",
   "name": "python3"
  },
  "language_info": {
   "codemirror_mode": {
    "name": "ipython",
    "version": 3
   },
   "file_extension": ".py",
   "mimetype": "text/x-python",
   "name": "python",
   "nbconvert_exporter": "python",
   "pygments_lexer": "ipython3",
   "version": "3.8.5"
  }
 },
 "nbformat": 4,
 "nbformat_minor": 5
}
